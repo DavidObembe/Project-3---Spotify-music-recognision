{
 "cells": [
  {
   "cell_type": "markdown",
   "metadata": {},
   "source": [
    "# Import Dependencies"
   ]
  },
  {
   "cell_type": "code",
   "execution_count": 1,
   "metadata": {},
   "outputs": [],
   "source": [
    "# visualizations\n",
    "import matplotlib.pyplot as plt\n",
    "from matplotlib import cm\n",
    "import seaborn as sns\n",
    "import pandas as pd\n",
    "import numpy as np\n",
    "%matplotlib inline "
   ]
  },
  {
   "cell_type": "markdown",
   "metadata": {},
   "source": [
    "# New Tracks for Various Genres"
   ]
  },
  {
   "cell_type": "markdown",
   "metadata": {},
   "source": [
    "### Pop"
   ]
  },
  {
   "cell_type": "markdown",
   "metadata": {},
   "source": [
    "my future by Billie Eilish\n",
    "track ID: 2ygvZOXrIeVL4xZmAWJT2C\n",
    "https://open.spotify.com/album/3oxhQpF3Twbkl18oQYfnh5"
   ]
  },
  {
   "cell_type": "code",
   "execution_count": 7,
   "metadata": {},
   "outputs": [],
   "source": [
    "billie = {\n",
    "  \"danceability\": 0.444,\n",
    "  \"energy\": 0.309,\n",
    "  \"key\": 8,\n",
    "  \"loudness\": -10.956,\n",
    "  \"mode\": 1,\n",
    "  \"speechiness\": 0.062,\n",
    "  \"acousticness\": 0.795,\n",
    "  \"instrumentalness\": 0.132,\n",
    "  \"liveness\": 0.352,\n",
    "  \"valence\": 0.0875,\n",
    "  \"tempo\": 104.745,\n",
    "  \"type\": \"audio_features\",\n",
    "  \"id\": \"2ygvZOXrIeVL4xZmAWJT2C\",\n",
    "  \"uri\": \"spotify:track:2ygvZOXrIeVL4xZmAWJT2C\",\n",
    "  \"track_href\": \"https://api.spotify.com/v1/tracks/2ygvZOXrIeVL4xZmAWJT2C\",\n",
    "  \"analysis_url\": \"https://api.spotify.com/v1/audio-analysis/2ygvZOXrIeVL4xZmAWJT2C\",\n",
    "  \"duration_ms\": 208155,\n",
    "  \"time_signature\": 4,\n",
    "    \"artist\"\"\n",
    "}\n"
   ]
  },
  {
   "cell_type": "code",
   "execution_count": 8,
   "metadata": {},
   "outputs": [
    {
     "data": {
      "text/html": [
       "<div>\n",
       "<style scoped>\n",
       "    .dataframe tbody tr th:only-of-type {\n",
       "        vertical-align: middle;\n",
       "    }\n",
       "\n",
       "    .dataframe tbody tr th {\n",
       "        vertical-align: top;\n",
       "    }\n",
       "\n",
       "    .dataframe thead th {\n",
       "        text-align: right;\n",
       "    }\n",
       "</style>\n",
       "<table border=\"1\" class=\"dataframe\">\n",
       "  <thead>\n",
       "    <tr style=\"text-align: right;\">\n",
       "      <th></th>\n",
       "      <th>danceability</th>\n",
       "      <th>energy</th>\n",
       "      <th>key</th>\n",
       "      <th>loudness</th>\n",
       "      <th>mode</th>\n",
       "      <th>speechiness</th>\n",
       "      <th>acousticness</th>\n",
       "      <th>instrumentalness</th>\n",
       "      <th>liveness</th>\n",
       "      <th>valence</th>\n",
       "      <th>tempo</th>\n",
       "      <th>type</th>\n",
       "      <th>id</th>\n",
       "      <th>uri</th>\n",
       "      <th>track_href</th>\n",
       "      <th>analysis_url</th>\n",
       "      <th>duration_ms</th>\n",
       "      <th>time_signature</th>\n",
       "    </tr>\n",
       "  </thead>\n",
       "  <tbody>\n",
       "    <tr>\n",
       "      <th>0</th>\n",
       "      <td>0.444</td>\n",
       "      <td>0.309</td>\n",
       "      <td>8</td>\n",
       "      <td>-10.956</td>\n",
       "      <td>1</td>\n",
       "      <td>0.062</td>\n",
       "      <td>0.795</td>\n",
       "      <td>0.132</td>\n",
       "      <td>0.352</td>\n",
       "      <td>0.0875</td>\n",
       "      <td>104.745</td>\n",
       "      <td>audio_features</td>\n",
       "      <td>2ygvZOXrIeVL4xZmAWJT2C</td>\n",
       "      <td>spotify:track:2ygvZOXrIeVL4xZmAWJT2C</td>\n",
       "      <td>https://api.spotify.com/v1/tracks/2ygvZOXrIeVL...</td>\n",
       "      <td>https://api.spotify.com/v1/audio-analysis/2ygv...</td>\n",
       "      <td>208155</td>\n",
       "      <td>4</td>\n",
       "    </tr>\n",
       "  </tbody>\n",
       "</table>\n",
       "</div>"
      ],
      "text/plain": [
       "   danceability  energy  key  loudness  mode  speechiness  acousticness  \\\n",
       "0         0.444   0.309    8   -10.956     1        0.062         0.795   \n",
       "\n",
       "   instrumentalness  liveness  valence    tempo            type  \\\n",
       "0             0.132     0.352   0.0875  104.745  audio_features   \n",
       "\n",
       "                       id                                   uri  \\\n",
       "0  2ygvZOXrIeVL4xZmAWJT2C  spotify:track:2ygvZOXrIeVL4xZmAWJT2C   \n",
       "\n",
       "                                          track_href  \\\n",
       "0  https://api.spotify.com/v1/tracks/2ygvZOXrIeVL...   \n",
       "\n",
       "                                        analysis_url  duration_ms  \\\n",
       "0  https://api.spotify.com/v1/audio-analysis/2ygv...       208155   \n",
       "\n",
       "   time_signature  \n",
       "0               4  "
      ]
     },
     "execution_count": 8,
     "metadata": {},
     "output_type": "execute_result"
    }
   ],
   "source": [
    "pd.DataFrame(billie,index=['0',])"
   ]
  },
  {
   "cell_type": "code",
   "execution_count": null,
   "metadata": {},
   "outputs": [],
   "source": []
  },
  {
   "cell_type": "code",
   "execution_count": null,
   "metadata": {},
   "outputs": [],
   "source": []
  },
  {
   "cell_type": "code",
   "execution_count": null,
   "metadata": {},
   "outputs": [],
   "source": []
  },
  {
   "cell_type": "code",
   "execution_count": null,
   "metadata": {},
   "outputs": [],
   "source": []
  }
 ],
 "metadata": {
  "kernelspec": {
   "display_name": "Python 3",
   "language": "python",
   "name": "python3"
  },
  "language_info": {
   "codemirror_mode": {
    "name": "ipython",
    "version": 3
   },
   "file_extension": ".py",
   "mimetype": "text/x-python",
   "name": "python",
   "nbconvert_exporter": "python",
   "pygments_lexer": "ipython3",
   "version": "3.7.6"
  }
 },
 "nbformat": 4,
 "nbformat_minor": 4
}
