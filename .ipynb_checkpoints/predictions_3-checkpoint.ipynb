{
 "cells": [
  {
   "cell_type": "markdown",
   "metadata": {},
   "source": [
    "# Import Dependencies"
   ]
  },
  {
   "cell_type": "code",
   "execution_count": 1,
   "metadata": {},
   "outputs": [],
   "source": [
    "import pickle\n",
    "import pandas as pd\n",
    "import numpy as np\n",
    "import os"
   ]
  },
  {
   "cell_type": "markdown",
   "metadata": {},
   "source": [
    "# Predict Function (DataFrame)"
   ]
  },
  {
   "cell_type": "code",
   "execution_count": 2,
   "metadata": {},
   "outputs": [],
   "source": [
    "def predictGenre(test_track):\n",
    "    #Load Machine Learning Model\n",
    "    loaded_scaler = pickle.load(open('Website/Models/XGBoost_scaler.sav', 'rb'))\n",
    "    loaded_model = pickle.load(open('Website/Models/XGBoost_model.sav', 'rb'))\n",
    "\n",
    "    #Make Predictions\n",
    "    newData_scaled = loaded_scaler.transform(test_track)\n",
    "    probs_test = loaded_model.predict_proba(newData_scaled)\n",
    "\n",
    "    #Map In Genres\n",
    "    genre = ['classical','country','electronic','indie','jazz','latin','pop','r&b','rap','rock','show_tunes','worship']\n",
    "    preds_test = pd.DataFrame(probs_test)\n",
    "    preds_test.columns=genre\n",
    "    # print(preds_test)\n",
    "\n",
    "    # Identify Genre with Highest Probability\n",
    "    probability = preds_test.max(axis=1)\n",
    "    probability.values[0]\n",
    "\n",
    "    predicted_genre = preds_test.idxmax(axis=1)\n",
    "    print(f'Test track has a {probability.values[0]} probability of being {predicted_genre.values[0]}') \n",
    "    \n",
    "    #Return Predicted Genre\n",
    "    return predicted_genre.values[0]"
   ]
  },
  {
   "cell_type": "markdown",
   "metadata": {},
   "source": [
    "# Predict Function (Dictionary)"
   ]
  },
  {
   "cell_type": "code",
   "execution_count": 3,
   "metadata": {},
   "outputs": [],
   "source": [
    "def predictGenreDict(test_dict):\n",
    "    \n",
    "    #Load Machine Learning Model\n",
    "    loaded_scaler = pickle.load(open('Website/Models/XGBoost_scaler.sav', 'rb'))\n",
    "    loaded_model = pickle.load(open('Website/Models/XGBoost_model.sav', 'rb'))\n",
    "\n",
    "    #Create Dataframe from Dictionary\n",
    "    test_df = pd.DataFrame(test_dict, index=['0',])\n",
    "    test_df = test_df[['acousticness','danceability','duration_ms','energy','instrumentalness',\n",
    "                 'liveness','loudness','speechiness','tempo','valence','popularity','key','mode']]\n",
    "    \n",
    "    #Make Predictions\n",
    "    newData_scaled = loaded_scaler.transform(test_df)\n",
    "    probs_test = loaded_model.predict_proba(newData_scaled)\n",
    "\n",
    "    #Map In Genres\n",
    "    genre = ['classical','country','electronic','indie','jazz','latin','pop','r&b','rap','rock','show_tunes','worship']\n",
    "    preds_test = pd.DataFrame(probs_test)\n",
    "    preds_test.columns=genre\n",
    "    # print(preds_test)\n",
    "\n",
    "    # Identify Genre with Highest Probability\n",
    "    probability = preds_test.max(axis=1)\n",
    "    probability.values[0]\n",
    "\n",
    "    predicted_genre = preds_test.idxmax(axis=1)\n",
    "    print(f'Test track has a {probability.values[0]} probability of being {predicted_genre.values[0]}') \n",
    "    \n",
    "    #Return Predicted Genre\n",
    "    return predicted_genre.values[0]"
   ]
  },
  {
   "cell_type": "markdown",
   "metadata": {},
   "source": [
    "# Predict Function (Individual Audio Feature Parameters)"
   ]
  },
  {
   "cell_type": "code",
   "execution_count": 4,
   "metadata": {},
   "outputs": [],
   "source": [
    "def predictGenreIndividual(acoustic, dance, duration, energy, instrumental, live, loud, speech, temp, val, popularity, key, mode):\n",
    "    \n",
    "    #Create Dataframe with Test Track Information\n",
    "    test_dict = {\n",
    "    \"acousticness\": acoustic,\n",
    "    \"danceability\": dance,\n",
    "    \"duration_ms\": duration,\n",
    "    \"energy\": energy,\n",
    "    \"instrumentalness\": instrumental,\n",
    "    \"liveness\": live,\n",
    "    \"loudness\": loud,\n",
    "    \"speechiness\": speech,\n",
    "    \"tempo\": temp,\n",
    "    \"valence\": val,\n",
    "    \"popularity\": popularity,\n",
    "    \"key\": key,\n",
    "    \"mode\": mode\n",
    "    }\n",
    "    test_track = pd.DataFrame(test_dict, index=[0,])\n",
    "\n",
    "    #Load Machine Learning Model\n",
    "    loaded_scaler = pickle.load(open('Website/Models/XGBoost_scaler.sav', 'rb'))\n",
    "    loaded_model = pickle.load(open('Website/Models/XGBoost_model.sav', 'rb'))\n",
    "\n",
    "    #Make Predictions\n",
    "    newData_scaled = loaded_scaler.transform(test_track)\n",
    "    probs_test = loaded_model.predict_proba(newData_scaled)\n",
    "\n",
    "    #Map In Genres\n",
    "    genre = ['classical','country','electronic','indie','jazz','latin','pop','r&b','rap','rock','show_tunes','worship']\n",
    "    preds_test = pd.DataFrame(probs_test)\n",
    "    preds_test.columns=genre\n",
    "    # print(preds_test)\n",
    "\n",
    "    # Identify Genre with Highest Probability\n",
    "    probability = preds_test.max(axis=1)\n",
    "    probability.values[0]\n",
    "\n",
    "    predicted_genre = preds_test.idxmax(axis=1)\n",
    "    print(f'Test track has a {probability.values[0]} probability of being {predicted_genre.values[0]}') \n",
    "    \n",
    "    #Return Predicted Genre\n",
    "    return predicted_genre.values[0]"
   ]
  },
  {
   "cell_type": "code",
   "execution_count": 5,
   "metadata": {},
   "outputs": [
    {
     "name": "stdout",
     "output_type": "stream",
     "text": [
      "Test track has a 0.3910420835018158 probability of being indie\n"
     ]
    },
    {
     "data": {
      "text/plain": [
       "'indie'"
      ]
     },
     "execution_count": 5,
     "metadata": {},
     "output_type": "execute_result"
    }
   ],
   "source": [
    "predictGenreIndividual(0.795, 0.444, 208155,0.309, 0.132, 0.352, -10.956, 0.062, 104.745, 0.0875, 56, 8, 1)"
   ]
  },
  {
   "cell_type": "markdown",
   "metadata": {},
   "source": [
    "# Test Songs not within the Original Dataset"
   ]
  },
  {
   "cell_type": "markdown",
   "metadata": {},
   "source": [
    "### Pop / Billie Eilish\n",
    "\n",
    "- Track Title: My Future\n",
    "- Release Date: July 30th 2020\n",
    "- Spotify Link: https://open.spotify.com/track/2ygvZOXrIeVL4xZmAWJT2C\n",
    "- Spotify API Audio Features: https://developer.spotify.com/console/get-audio-features-track/?id=2ygvZOXrIeVL4xZmAWJT2C"
   ]
  },
  {
   "cell_type": "code",
   "execution_count": 6,
   "metadata": {},
   "outputs": [],
   "source": [
    "billie_elilish = {\n",
    "  \"danceability\": 0.444,\n",
    "  \"energy\": 0.309,\n",
    "  \"key\": 8,\n",
    "  \"loudness\": -10.956,\n",
    "  \"mode\": 1,\n",
    "  \"speechiness\": 0.062,\n",
    "  \"acousticness\": 0.795,\n",
    "  \"instrumentalness\": 0.132,\n",
    "  \"liveness\": 0.352,\n",
    "  \"valence\": 0.0875,\n",
    "  \"tempo\": 104.745,\n",
    "  \"duration_ms\": 208155,\n",
    "  \"popularity\": 56\n",
    "}"
   ]
  },
  {
   "cell_type": "code",
   "execution_count": 7,
   "metadata": {},
   "outputs": [
    {
     "name": "stdout",
     "output_type": "stream",
     "text": [
      "Test track has a 0.3910420835018158 probability of being indie\n"
     ]
    },
    {
     "data": {
      "text/plain": [
       "'indie'"
      ]
     },
     "execution_count": 7,
     "metadata": {},
     "output_type": "execute_result"
    }
   ],
   "source": [
    "predictGenreDict(billie_elilish)"
   ]
  },
  {
   "cell_type": "markdown",
   "metadata": {},
   "source": [
    "### Pop / Alanis Morissette\n",
    "\n",
    "- Track Title: Reckoning\n",
    "- Spotify Link: https://open.spotify.com/track/6GYc359apC4J1xMJc3GMNv"
   ]
  },
  {
   "cell_type": "code",
   "execution_count": 8,
   "metadata": {},
   "outputs": [],
   "source": [
    "alanis_morissette = {\n",
    "  \"danceability\": 0.31,\n",
    "  \"energy\": 0.627,\n",
    "  \"key\": 10,\n",
    "  \"loudness\": -6.679,\n",
    "  \"mode\": 0,\n",
    "  \"speechiness\": 0.0429,\n",
    "  \"acousticness\": 0.621,\n",
    "  \"instrumentalness\": 0.0000954,\n",
    "  \"liveness\": 0.13,\n",
    "  \"valence\": 0.158,\n",
    "  \"tempo\": 118.319,\n",
    "  \"duration_ms\": 205400,\n",
    "  \"popularity\": 56\n",
    "}"
   ]
  },
  {
   "cell_type": "code",
   "execution_count": 9,
   "metadata": {},
   "outputs": [
    {
     "name": "stdout",
     "output_type": "stream",
     "text": [
      "Test track has a 0.3598160445690155 probability of being pop\n"
     ]
    },
    {
     "data": {
      "text/plain": [
       "'pop'"
      ]
     },
     "execution_count": 9,
     "metadata": {},
     "output_type": "execute_result"
    }
   ],
   "source": [
    "predictGenreDict(alanis_morissette)"
   ]
  },
  {
   "cell_type": "markdown",
   "metadata": {},
   "source": [
    "### Pop / Taylor Swift\n",
    "\n",
    "- Track Title: Cardigan\n",
    "- Spotify Link: https://open.spotify.com/track/4R2kfaDFhslZEMJqAFNpdd"
   ]
  },
  {
   "cell_type": "code",
   "execution_count": 10,
   "metadata": {},
   "outputs": [],
   "source": [
    "taylor_swift = {\n",
    "  \"danceability\": 0.613,\n",
    "  \"energy\": 0.581,\n",
    "  \"key\": 0,\n",
    "  \"loudness\": -8.588,\n",
    "  \"mode\": 0,\n",
    "  \"speechiness\": 0.0424,\n",
    "  \"acousticness\": 0.537,\n",
    "  \"instrumentalness\": 0.000345,\n",
    "  \"liveness\": 0.25,\n",
    "  \"valence\": 0.551,\n",
    "  \"tempo\": 130.033,\n",
    "  \"duration_ms\": 239560,\n",
    "  \"popularity\": 56\n",
    "}"
   ]
  },
  {
   "cell_type": "code",
   "execution_count": 11,
   "metadata": {},
   "outputs": [
    {
     "name": "stdout",
     "output_type": "stream",
     "text": [
      "Test track has a 0.32804417610168457 probability of being latin\n"
     ]
    },
    {
     "data": {
      "text/plain": [
       "'latin'"
      ]
     },
     "execution_count": 11,
     "metadata": {},
     "output_type": "execute_result"
    }
   ],
   "source": [
    "predictGenreDict(taylor_swift)"
   ]
  },
  {
   "cell_type": "markdown",
   "metadata": {},
   "source": [
    "### Pop / Justin Bieber ft Quavo\n",
    "\n",
    "- Title Track: Intentions (feat. Quavo)\n",
    "- Spotify Link: https://open.spotify.com/track/364dI1bYnvamSnBJ8JcNzN"
   ]
  },
  {
   "cell_type": "code",
   "execution_count": 12,
   "metadata": {},
   "outputs": [],
   "source": [
    "justin_bieber = {\n",
    "  \"danceability\": 0.811,\n",
    "  \"energy\": 0.553,\n",
    "  \"key\": 9,\n",
    "  \"loudness\": -6.644,\n",
    "  \"mode\": 1,\n",
    "  \"speechiness\": 0.0552,\n",
    "  \"acousticness\": 0.317,\n",
    "  \"instrumentalness\": 0,\n",
    "  \"liveness\": 0.105,\n",
    "  \"valence\": 0.86,\n",
    "  \"tempo\": 148.014,\n",
    "  \"duration_ms\": 212869,\n",
    "  \"popularity\": 56\n",
    "}"
   ]
  },
  {
   "cell_type": "code",
   "execution_count": 13,
   "metadata": {},
   "outputs": [
    {
     "name": "stdout",
     "output_type": "stream",
     "text": [
      "Test track has a 0.8057001829147339 probability of being latin\n"
     ]
    },
    {
     "data": {
      "text/plain": [
       "'latin'"
      ]
     },
     "execution_count": 13,
     "metadata": {},
     "output_type": "execute_result"
    }
   ],
   "source": [
    "predictGenreDict(justin_bieber)"
   ]
  },
  {
   "cell_type": "markdown",
   "metadata": {},
   "source": [
    "### R&B / John Legend\n",
    "\n",
    "- Track Title: Wild (feat. Gary Clark Jr.)\n",
    "- Spotify Link: https://open.spotify.com/track/4rVW6XqAsSaf5vOwc8FREW"
   ]
  },
  {
   "cell_type": "code",
   "execution_count": 14,
   "metadata": {},
   "outputs": [],
   "source": [
    "john_legend = {\n",
    "  \"danceability\": 0.557,\n",
    "  \"energy\": 0.585,\n",
    "  \"key\": 8,\n",
    "  \"loudness\": -6.201,\n",
    "  \"mode\": 1,\n",
    "  \"speechiness\": 0.0431,\n",
    "  \"acousticness\": 0.036,\n",
    "  \"instrumentalness\": 0,\n",
    "  \"liveness\": 0.176,\n",
    "  \"valence\": 0.305,\n",
    "  \"tempo\": 63.392,\n",
    "  \"duration_ms\": 196907,\n",
    "  \"popularity\": 56\n",
    "}"
   ]
  },
  {
   "cell_type": "code",
   "execution_count": 15,
   "metadata": {},
   "outputs": [
    {
     "name": "stdout",
     "output_type": "stream",
     "text": [
      "Test track has a 0.48351383209228516 probability of being pop\n"
     ]
    },
    {
     "data": {
      "text/plain": [
       "'pop'"
      ]
     },
     "execution_count": 15,
     "metadata": {},
     "output_type": "execute_result"
    }
   ],
   "source": [
    "predictGenreDict(john_legend)"
   ]
  },
  {
   "cell_type": "markdown",
   "metadata": {},
   "source": [
    "### R&B / PARTYNEXTDOOR ft Rihanna \n",
    "\n",
    "- Track Title: BELIEVE IT\n",
    "- Spotify Link: https://open.spotify.com/track/4HDCLYli2SUdkq9OjmvhSD"
   ]
  },
  {
   "cell_type": "code",
   "execution_count": 16,
   "metadata": {},
   "outputs": [],
   "source": [
    "partynextdoor = {\n",
    "  \"danceability\": 0.43,\n",
    "  \"energy\": 0.7,\n",
    "  \"key\": 6,\n",
    "  \"loudness\": -5.35,\n",
    "  \"mode\": 1,\n",
    "  \"speechiness\": 0.264,\n",
    "  \"acousticness\": 0.0902,\n",
    "  \"instrumentalness\": 0,\n",
    "  \"liveness\": 0.216,\n",
    "  \"valence\": 0.731,\n",
    "  \"tempo\": 158.373,\n",
    "  \"duration_ms\": 183219,\n",
    "  \"popularity\": 56\n",
    "}"
   ]
  },
  {
   "cell_type": "code",
   "execution_count": 17,
   "metadata": {},
   "outputs": [
    {
     "name": "stdout",
     "output_type": "stream",
     "text": [
      "Test track has a 0.45507097244262695 probability of being pop\n"
     ]
    },
    {
     "data": {
      "text/plain": [
       "'pop'"
      ]
     },
     "execution_count": 17,
     "metadata": {},
     "output_type": "execute_result"
    }
   ],
   "source": [
    "predictGenreDict(partynextdoor)"
   ]
  },
  {
   "cell_type": "markdown",
   "metadata": {},
   "source": [
    "### Rap / DJ Khaled ft. Drake\n",
    "\n",
    "- Track Title: POPSTAR\n",
    "- Spotify Link: https://open.spotify.com/track/6EDO9iiTtwNv6waLwa1UUq"
   ]
  },
  {
   "cell_type": "code",
   "execution_count": 18,
   "metadata": {},
   "outputs": [],
   "source": [
    "dj_khaled = {\n",
    "  \"danceability\": 0.8,\n",
    "  \"energy\": 0.56,\n",
    "  \"key\": 5,\n",
    "  \"loudness\": -4.818,\n",
    "  \"mode\": 0,\n",
    "  \"speechiness\": 0.261,\n",
    "  \"acousticness\": 0.057,\n",
    "  \"instrumentalness\": 0,\n",
    "  \"liveness\": 0.134,\n",
    "  \"valence\": 0.45,\n",
    "  \"tempo\": 163.071,\n",
    "  \"duration_ms\": 200221,\n",
    "  \"popularity\": 56\n",
    "}"
   ]
  },
  {
   "cell_type": "code",
   "execution_count": 19,
   "metadata": {},
   "outputs": [
    {
     "name": "stdout",
     "output_type": "stream",
     "text": [
      "Test track has a 0.7897329330444336 probability of being rap\n"
     ]
    },
    {
     "data": {
      "text/plain": [
       "'rap'"
      ]
     },
     "execution_count": 19,
     "metadata": {},
     "output_type": "execute_result"
    }
   ],
   "source": [
    "predictGenreDict(dj_khaled)"
   ]
  },
  {
   "cell_type": "markdown",
   "metadata": {},
   "source": [
    "### Rap / Drake ft. Lil Durk\n",
    "\n",
    "- Title Track: Laugh Now Cry Later (feat. Lil Durk)\n",
    "- Spotify Link: https://open.spotify.com/track/2SAqBLGA283SUiwJ3xOUVI"
   ]
  },
  {
   "cell_type": "code",
   "execution_count": 20,
   "metadata": {},
   "outputs": [],
   "source": [
    "drake = {\n",
    "  \"danceability\": 0.761,\n",
    "  \"energy\": 0.518,\n",
    "  \"key\": 0,\n",
    "  \"loudness\": -8.871,\n",
    "  \"mode\": 1,\n",
    "  \"speechiness\": 0.134,\n",
    "  \"acousticness\": 0.244,\n",
    "  \"instrumentalness\": 0.0000347,\n",
    "  \"liveness\": 0.107,\n",
    "  \"valence\": 0.522,\n",
    "  \"tempo\": 133.976,\n",
    "  \"duration_ms\": 261493,\n",
    "  \"popularity\": 56\n",
    "}"
   ]
  },
  {
   "cell_type": "code",
   "execution_count": 21,
   "metadata": {},
   "outputs": [
    {
     "name": "stdout",
     "output_type": "stream",
     "text": [
      "Test track has a 0.550229012966156 probability of being rap\n"
     ]
    },
    {
     "data": {
      "text/plain": [
       "'rap'"
      ]
     },
     "execution_count": 21,
     "metadata": {},
     "output_type": "execute_result"
    }
   ],
   "source": [
    "predictGenreDict(drake)"
   ]
  },
  {
   "cell_type": "markdown",
   "metadata": {},
   "source": [
    "### Rock / Bon Jovi\n",
    "\n",
    "- Track Title: Limitless\n",
    "- Spotify Link: https://open.spotify.com/track/71JuDGXgyY7MbmXtldZ4C3"
   ]
  },
  {
   "cell_type": "code",
   "execution_count": 22,
   "metadata": {},
   "outputs": [],
   "source": [
    "bon_jovi = {\n",
    "  \"danceability\": 0.438,\n",
    "  \"energy\": 0.826,\n",
    "  \"key\": 10,\n",
    "  \"loudness\": -5.454,\n",
    "  \"mode\": 1,\n",
    "  \"speechiness\": 0.075,\n",
    "  \"acousticness\": 0.00586,\n",
    "  \"instrumentalness\": 0.00000918,\n",
    "  \"liveness\": 0.362,\n",
    "  \"valence\": 0.378,\n",
    "  \"tempo\": 144.149,\n",
    "  \"duration_ms\": 221947,\n",
    "  \"popularity\": 56\n",
    "}"
   ]
  },
  {
   "cell_type": "code",
   "execution_count": 23,
   "metadata": {},
   "outputs": [
    {
     "name": "stdout",
     "output_type": "stream",
     "text": [
      "Test track has a 0.5546531677246094 probability of being rock\n"
     ]
    },
    {
     "data": {
      "text/plain": [
       "'rock'"
      ]
     },
     "execution_count": 23,
     "metadata": {},
     "output_type": "execute_result"
    }
   ],
   "source": [
    "predictGenreDict(bon_jovi)"
   ]
  },
  {
   "cell_type": "markdown",
   "metadata": {},
   "source": [
    "### Rock / Elton John,Ozzy Osbourne, Will Malone\n",
    "\n",
    "- Track Title: Ordinary Man (feat. Elton John)\n",
    "- Spotify Link: https://open.spotify.com/track/6eEYGGFfFbtKHCgJM4uh9v"
   ]
  },
  {
   "cell_type": "code",
   "execution_count": 24,
   "metadata": {},
   "outputs": [],
   "source": [
    "elton_john = {\n",
    "  \"danceability\": 0.428,\n",
    "  \"energy\": 0.599,\n",
    "  \"key\": 4,\n",
    "  \"loudness\": -2.135,\n",
    "  \"mode\": 1,\n",
    "  \"speechiness\": 0.0286,\n",
    "  \"acousticness\": 0.0665,\n",
    "  \"instrumentalness\": 0.00000986,\n",
    "  \"liveness\": 0.137,\n",
    "  \"valence\": 0.134,\n",
    "  \"tempo\": 125.83,\n",
    "  \"duration_ms\": 301730,\n",
    "  \"popularity\": 56\n",
    "}"
   ]
  },
  {
   "cell_type": "code",
   "execution_count": 25,
   "metadata": {},
   "outputs": [
    {
     "name": "stdout",
     "output_type": "stream",
     "text": [
      "Test track has a 0.3190756142139435 probability of being pop\n"
     ]
    },
    {
     "data": {
      "text/plain": [
       "'pop'"
      ]
     },
     "execution_count": 25,
     "metadata": {},
     "output_type": "execute_result"
    }
   ],
   "source": [
    "predictGenreDict(elton_john)"
   ]
  },
  {
   "cell_type": "markdown",
   "metadata": {},
   "source": [
    "### Classical / Chad Lawson\n",
    "\n",
    "- Genre: Classical\n",
    "- Track Title: In the Waiting\n",
    "- Spotify Link: https://open.spotify.com/track/0WzetzBykY3fl41dEJjoYa"
   ]
  },
  {
   "cell_type": "code",
   "execution_count": 26,
   "metadata": {},
   "outputs": [],
   "source": [
    "chad_lawson = {\n",
    "  \"danceability\": 0.337,\n",
    "  \"energy\": 0.0111,\n",
    "  \"key\": 0,\n",
    "  \"loudness\": -27.273,\n",
    "  \"mode\": 1,\n",
    "  \"speechiness\": 0.0456,\n",
    "  \"acousticness\": 0.991,\n",
    "  \"instrumentalness\": 0.958,\n",
    "  \"liveness\": 0.0886,\n",
    "  \"valence\": 0.148,\n",
    "  \"tempo\": 75.69,\n",
    "  \"duration_ms\": 159208,\n",
    "  \"popularity\": 56\n",
    "}"
   ]
  },
  {
   "cell_type": "code",
   "execution_count": 27,
   "metadata": {},
   "outputs": [
    {
     "name": "stdout",
     "output_type": "stream",
     "text": [
      "Test track has a 0.9713071584701538 probability of being classical\n"
     ]
    },
    {
     "data": {
      "text/plain": [
       "'classical'"
      ]
     },
     "execution_count": 27,
     "metadata": {},
     "output_type": "execute_result"
    }
   ],
   "source": [
    "predictGenreDict(chad_lawson)"
   ]
  },
  {
   "cell_type": "markdown",
   "metadata": {},
   "source": [
    "### Country / Rascal Flatts\n",
    "\n",
    "- Track Title: How They Remember You\n",
    "- Spotify Link: https://open.spotify.com/track/3qwPYg8xTWPafQD3YUNaTU"
   ]
  },
  {
   "cell_type": "code",
   "execution_count": 28,
   "metadata": {},
   "outputs": [],
   "source": [
    "rascall_flats = {\n",
    "  \"danceability\": 0.442,\n",
    "  \"energy\": 0.8,\n",
    "  \"key\": 2,\n",
    "  \"loudness\": -5.12,\n",
    "  \"mode\": 1,\n",
    "  \"speechiness\": 0.0368,\n",
    "  \"acousticness\": 0.0124,\n",
    "  \"instrumentalness\": 0,\n",
    "  \"liveness\": 0.0785,\n",
    "  \"valence\": 0.498,\n",
    "  \"tempo\": 152.004,\n",
    "  \"duration_ms\": 211707,\n",
    "  \"popularity\": 56\n",
    "}"
   ]
  },
  {
   "cell_type": "code",
   "execution_count": 29,
   "metadata": {},
   "outputs": [
    {
     "name": "stdout",
     "output_type": "stream",
     "text": [
      "Test track has a 0.32943424582481384 probability of being rock\n"
     ]
    },
    {
     "data": {
      "text/plain": [
       "'rock'"
      ]
     },
     "execution_count": 29,
     "metadata": {},
     "output_type": "execute_result"
    }
   ],
   "source": [
    "predictGenreDict(rascall_flats)"
   ]
  },
  {
   "cell_type": "markdown",
   "metadata": {},
   "source": [
    "### Country / Tenille Townes\n",
    "\n",
    "- Track Title: Holding Out for the One\n",
    "- Spotify Link: https://open.spotify.com/track/7IN4uBTZZK2KJ4tjBL44xU"
   ]
  },
  {
   "cell_type": "code",
   "execution_count": 30,
   "metadata": {},
   "outputs": [],
   "source": [
    "tenille_townes = {\n",
    "  \"danceability\": 0.6,\n",
    "  \"energy\": 0.742,\n",
    "  \"key\": 6,\n",
    "  \"loudness\": -4.135,\n",
    "  \"mode\": 1,\n",
    "  \"speechiness\": 0.0379,\n",
    "  \"acousticness\": 0.00716,\n",
    "  \"instrumentalness\": 0,\n",
    "  \"liveness\": 0.363,\n",
    "  \"valence\": 0.796,\n",
    "  \"tempo\": 85.008,\n",
    "  \"duration_ms\": 195187,\n",
    "  \"popularity\": 56\n",
    "}"
   ]
  },
  {
   "cell_type": "code",
   "execution_count": 31,
   "metadata": {},
   "outputs": [
    {
     "name": "stdout",
     "output_type": "stream",
     "text": [
      "Test track has a 0.5605005621910095 probability of being country\n"
     ]
    },
    {
     "data": {
      "text/plain": [
       "'country'"
      ]
     },
     "execution_count": 31,
     "metadata": {},
     "output_type": "execute_result"
    }
   ],
   "source": [
    "predictGenreDict(tenille_townes)"
   ]
  },
  {
   "cell_type": "markdown",
   "metadata": {},
   "source": [
    "### Electronic / David Guetta ft Sia \n",
    "\n",
    "- Track Title: Let's Love\n",
    "- Spotify Link: https://open.spotify.com/track/6lhZLbb0czULpjb2kFryPS?si=1kIvoYZ_R7is26bsG9gVyA"
   ]
  },
  {
   "cell_type": "code",
   "execution_count": 32,
   "metadata": {},
   "outputs": [],
   "source": [
    "david_guerra = {\n",
    "  \"danceability\": 0.662,\n",
    "  \"energy\": 0.868,\n",
    "  \"key\": 5,\n",
    "  \"loudness\": -4.025,\n",
    "  \"mode\": 1,\n",
    "  \"speechiness\": 0.0341,\n",
    "  \"acousticness\": 0.00882,\n",
    "  \"instrumentalness\": 0.00244,\n",
    "  \"liveness\": 0.584,\n",
    "  \"valence\": 0.353,\n",
    "  \"tempo\": 92.998,\n",
    "  \"duration_ms\": 200645,\n",
    "  \"popularity\": 56\n",
    "}"
   ]
  },
  {
   "cell_type": "code",
   "execution_count": 33,
   "metadata": {},
   "outputs": [
    {
     "name": "stdout",
     "output_type": "stream",
     "text": [
      "Test track has a 0.25189173221588135 probability of being pop\n"
     ]
    },
    {
     "data": {
      "text/plain": [
       "'pop'"
      ]
     },
     "execution_count": 33,
     "metadata": {},
     "output_type": "execute_result"
    }
   ],
   "source": [
    "predictGenreDict(david_guerra)"
   ]
  },
  {
   "cell_type": "markdown",
   "metadata": {},
   "source": [
    "### Indie / Giant Rooks\n",
    "\n",
    "- Track Title: Misinterpretations\n",
    "- Spotify Link: https://open.spotify.com/track/7a4iLgRkkk6Xb7M6yc9Rh2"
   ]
  },
  {
   "cell_type": "code",
   "execution_count": 34,
   "metadata": {},
   "outputs": [],
   "source": [
    "giant_rocks = {\n",
    "  \"danceability\": 0.53,\n",
    "  \"energy\": 0.869,\n",
    "  \"key\": 10,\n",
    "  \"loudness\": -3.542,\n",
    "  \"mode\": 0,\n",
    "  \"speechiness\": 0.0425,\n",
    "  \"acousticness\": 0.0199,\n",
    "  \"instrumentalness\": 0.000365,\n",
    "  \"liveness\": 0.13,\n",
    "  \"valence\": 0.531,\n",
    "  \"tempo\": 153.06,\n",
    "  \"duration_ms\": 292733,\n",
    "  \"popularity\": 56\n",
    "}"
   ]
  },
  {
   "cell_type": "code",
   "execution_count": 35,
   "metadata": {},
   "outputs": [
    {
     "name": "stdout",
     "output_type": "stream",
     "text": [
      "Test track has a 0.33850231766700745 probability of being rock\n"
     ]
    },
    {
     "data": {
      "text/plain": [
       "'rock'"
      ]
     },
     "execution_count": 35,
     "metadata": {},
     "output_type": "execute_result"
    }
   ],
   "source": [
    "predictGenreDict(giant_rocks)"
   ]
  },
  {
   "cell_type": "markdown",
   "metadata": {},
   "source": [
    "### Jazz / Instrumental Jazz Music Guys\n",
    "\n",
    "- Track Title: Just Smile\n",
    "- Spotify Link: https://open.spotify.com/track/4IG1XgvlkeWmTK00mdNGB0"
   ]
  },
  {
   "cell_type": "code",
   "execution_count": 36,
   "metadata": {},
   "outputs": [],
   "source": [
    "instrumental_Jazz_music_guys = {\n",
    "  \"danceability\": 0.599,\n",
    "  \"energy\": 0.177,\n",
    "  \"key\": 0,\n",
    "  \"loudness\": -14.621,\n",
    "  \"mode\": 1,\n",
    "  \"speechiness\": 0.0509,\n",
    "  \"acousticness\": 0.98,\n",
    "  \"instrumentalness\": 0.577,\n",
    "  \"liveness\": 0.138,\n",
    "  \"valence\": 0.507,\n",
    "  \"tempo\": 115.325,\n",
    "  \"duration_ms\": 258341,\n",
    "  \"popularity\": 56\n",
    "}"
   ]
  },
  {
   "cell_type": "code",
   "execution_count": 37,
   "metadata": {},
   "outputs": [
    {
     "name": "stdout",
     "output_type": "stream",
     "text": [
      "Test track has a 0.3057435154914856 probability of being pop\n"
     ]
    },
    {
     "data": {
      "text/plain": [
       "'pop'"
      ]
     },
     "execution_count": 37,
     "metadata": {},
     "output_type": "execute_result"
    }
   ],
   "source": [
    "predictGenreDict(instrumental_Jazz_music_guys)"
   ]
  },
  {
   "cell_type": "markdown",
   "metadata": {},
   "source": [
    "### Latin / Christian Nodal\n",
    "\n",
    "- Title Track: Nace Un Borracho\n",
    "- Spotify Link: https://open.spotify.com/track/6SnO4yCCYtz2rffMpEAlro"
   ]
  },
  {
   "cell_type": "code",
   "execution_count": 38,
   "metadata": {},
   "outputs": [],
   "source": [
    "christian_nodal = {\n",
    "  \"danceability\": 0.626,\n",
    "  \"energy\": 0.47,\n",
    "  \"key\": 0,\n",
    "  \"loudness\": -2.984,\n",
    "  \"mode\": 1,\n",
    "  \"speechiness\": 0.0316,\n",
    "  \"acousticness\": 0.522,\n",
    "  \"instrumentalness\": 0,\n",
    "  \"liveness\": 0.201,\n",
    "  \"valence\": 0.825,\n",
    "  \"tempo\": 140.046,\n",
    "  \"duration_ms\": 176347,\n",
    "  \"popularity\": 56\n",
    "}"
   ]
  },
  {
   "cell_type": "code",
   "execution_count": 39,
   "metadata": {},
   "outputs": [
    {
     "name": "stdout",
     "output_type": "stream",
     "text": [
      "Test track has a 0.9786537289619446 probability of being latin\n"
     ]
    },
    {
     "data": {
      "text/plain": [
       "'latin'"
      ]
     },
     "execution_count": 39,
     "metadata": {},
     "output_type": "execute_result"
    }
   ],
   "source": [
    "predictGenreDict(christian_nodal)"
   ]
  },
  {
   "cell_type": "markdown",
   "metadata": {},
   "source": [
    "### Show Tunes / John Williams London Symphony Orchestra\n",
    "\n",
    "- Track Title: Cantina Band\n",
    "- Spotify Link: https://open.spotify.com/track/5ZSAdkQb23NPIcUGt6exdm"
   ]
  },
  {
   "cell_type": "code",
   "execution_count": 40,
   "metadata": {},
   "outputs": [],
   "source": [
    "lon_orchestra = {\n",
    "  \"danceability\": 0.699,\n",
    "  \"energy\": 0.419,\n",
    "  \"key\": 0,\n",
    "  \"loudness\": -15.133,\n",
    "  \"mode\": 1,\n",
    "  \"speechiness\": 0.134,\n",
    "  \"acousticness\": 0.255,\n",
    "  \"instrumentalness\": 0.0239,\n",
    "  \"liveness\": 0.0471,\n",
    "  \"valence\": 0.822,\n",
    "  \"tempo\": 131.629,\n",
    "  \"duration_ms\": 164307,\n",
    "  \"popularity\": 56\n",
    "}"
   ]
  },
  {
   "cell_type": "code",
   "execution_count": 41,
   "metadata": {},
   "outputs": [
    {
     "name": "stdout",
     "output_type": "stream",
     "text": [
      "Test track has a 0.4520324766635895 probability of being rock\n"
     ]
    },
    {
     "data": {
      "text/plain": [
       "'rock'"
      ]
     },
     "execution_count": 41,
     "metadata": {},
     "output_type": "execute_result"
    }
   ],
   "source": [
    "predictGenreDict(lon_orchestra)"
   ]
  },
  {
   "cell_type": "markdown",
   "metadata": {},
   "source": [
    "### Show Tunes / Original Broadway Cast Of Aint Too Proud\n",
    "\n",
    "- Track Title: Get Ready\n",
    "- Spotify Link: https://open.spotify.com/track/7xSFdlmMq6Nbamxvfpjg3t"
   ]
  },
  {
   "cell_type": "code",
   "execution_count": 42,
   "metadata": {},
   "outputs": [],
   "source": [
    "broadway = {\n",
    "  \"danceability\": 0.674,\n",
    "  \"energy\": 0.656,\n",
    "  \"key\": 5,\n",
    "  \"loudness\": -7.171,\n",
    "  \"mode\": 1,\n",
    "  \"speechiness\": 0.121,\n",
    "  \"acousticness\": 0.107,\n",
    "  \"instrumentalness\": 0,\n",
    "  \"liveness\": 0.369,\n",
    "  \"valence\": 0.903,\n",
    "  \"tempo\": 139.992,\n",
    "  \"duration_ms\": 101708,\n",
    "  \"popularity\": 56\n",
    "}"
   ]
  },
  {
   "cell_type": "code",
   "execution_count": 43,
   "metadata": {},
   "outputs": [
    {
     "name": "stdout",
     "output_type": "stream",
     "text": [
      "Test track has a 0.23078803718090057 probability of being show_tunes\n"
     ]
    },
    {
     "data": {
      "text/plain": [
       "'show_tunes'"
      ]
     },
     "execution_count": 43,
     "metadata": {},
     "output_type": "execute_result"
    }
   ],
   "source": [
    "predictGenreDict(broadway)"
   ]
  },
  {
   "cell_type": "markdown",
   "metadata": {},
   "source": [
    "### Worship / Kirk Franklin\n",
    "\n",
    "- Track Title: Love Theory\n",
    "- Spotify Link: https://open.spotify.com/track/08XnGAqrSwqr08vJ0t4py8"
   ]
  },
  {
   "cell_type": "code",
   "execution_count": 44,
   "metadata": {},
   "outputs": [],
   "source": [
    "kirk_franklin= {\n",
    "  \"danceability\": 0.745,\n",
    "  \"energy\": 0.677,\n",
    "  \"key\": 1,\n",
    "  \"loudness\": -5.355,\n",
    "  \"mode\": 1,\n",
    "  \"speechiness\": 0.215,\n",
    "  \"acousticness\": 0.181,\n",
    "  \"instrumentalness\": 0,\n",
    "  \"liveness\": 0.0895,\n",
    "  \"valence\": 0.72,\n",
    "  \"tempo\": 97.092,\n",
    "  \"duration_ms\": 251258,\n",
    "  \"popularity\": 56\n",
    "}"
   ]
  },
  {
   "cell_type": "code",
   "execution_count": 45,
   "metadata": {},
   "outputs": [
    {
     "name": "stdout",
     "output_type": "stream",
     "text": [
      "Test track has a 0.2966955006122589 probability of being pop\n"
     ]
    },
    {
     "data": {
      "text/plain": [
       "'pop'"
      ]
     },
     "execution_count": 45,
     "metadata": {},
     "output_type": "execute_result"
    }
   ],
   "source": [
    "predictGenreDict(kirk_franklin)"
   ]
  },
  {
   "cell_type": "markdown",
   "metadata": {},
   "source": [
    "### Worship / Shane & Shane The Worship Initiative\n",
    "\n",
    "- Track Title: \"Behold The Lamb\"\n",
    "- Spotify Link: https://open.spotify.com/track/2L6oInj5KFDnxQs9cUIS6Q"
   ]
  },
  {
   "cell_type": "code",
   "execution_count": 46,
   "metadata": {},
   "outputs": [],
   "source": [
    "shane_shane = {\n",
    "  \"danceability\": 0.426,\n",
    "  \"energy\": 0.388,\n",
    "  \"key\": 0,\n",
    "  \"loudness\": -12.084,\n",
    "  \"mode\": 1,\n",
    "  \"speechiness\": 0.0279,\n",
    "  \"acousticness\": 0.166,\n",
    "  \"instrumentalness\": 0,\n",
    "  \"liveness\": 0.102,\n",
    "  \"valence\": 0.268,\n",
    "  \"tempo\": 75.021,\n",
    "  \"duration_ms\": 305055,\n",
    "  \"popularity\": 56\n",
    "}"
   ]
  },
  {
   "cell_type": "code",
   "execution_count": 47,
   "metadata": {},
   "outputs": [
    {
     "name": "stdout",
     "output_type": "stream",
     "text": [
      "Test track has a 0.34584841132164 probability of being pop\n"
     ]
    },
    {
     "data": {
      "text/plain": [
       "'pop'"
      ]
     },
     "execution_count": 47,
     "metadata": {},
     "output_type": "execute_result"
    }
   ],
   "source": [
    "predictGenreDict(shane_shane)"
   ]
  },
  {
   "cell_type": "markdown",
   "metadata": {},
   "source": [
    "# Summary Predicted Genres from Tracks outside the Original Dataset"
   ]
  },
  {
   "cell_type": "code",
   "execution_count": 48,
   "metadata": {},
   "outputs": [
    {
     "data": {
      "text/html": [
       "<div>\n",
       "<style scoped>\n",
       "    .dataframe tbody tr th:only-of-type {\n",
       "        vertical-align: middle;\n",
       "    }\n",
       "\n",
       "    .dataframe tbody tr th {\n",
       "        vertical-align: top;\n",
       "    }\n",
       "\n",
       "    .dataframe thead th {\n",
       "        text-align: right;\n",
       "    }\n",
       "</style>\n",
       "<table border=\"1\" class=\"dataframe\">\n",
       "  <thead>\n",
       "    <tr style=\"text-align: right;\">\n",
       "      <th></th>\n",
       "      <th>Listed_Genre</th>\n",
       "      <th>Predicted_Genre</th>\n",
       "      <th>danceability</th>\n",
       "      <th>energy</th>\n",
       "      <th>key</th>\n",
       "      <th>loudness</th>\n",
       "      <th>mode</th>\n",
       "      <th>speechiness</th>\n",
       "      <th>acousticness</th>\n",
       "      <th>instrumentalness</th>\n",
       "      <th>liveness</th>\n",
       "      <th>valence</th>\n",
       "      <th>tempo</th>\n",
       "      <th>duration_ms</th>\n",
       "      <th>popularity</th>\n",
       "    </tr>\n",
       "  </thead>\n",
       "  <tbody>\n",
       "    <tr>\n",
       "      <th>billie_elilish</th>\n",
       "      <td>pop</td>\n",
       "      <td>indie</td>\n",
       "      <td>0.444</td>\n",
       "      <td>0.3090</td>\n",
       "      <td>8</td>\n",
       "      <td>-10.956</td>\n",
       "      <td>1</td>\n",
       "      <td>0.0620</td>\n",
       "      <td>0.79500</td>\n",
       "      <td>0.132000</td>\n",
       "      <td>0.3520</td>\n",
       "      <td>0.0875</td>\n",
       "      <td>104.745</td>\n",
       "      <td>208155</td>\n",
       "      <td>56</td>\n",
       "    </tr>\n",
       "    <tr>\n",
       "      <th>alanis_morissette</th>\n",
       "      <td>pop</td>\n",
       "      <td>pop</td>\n",
       "      <td>0.310</td>\n",
       "      <td>0.6270</td>\n",
       "      <td>10</td>\n",
       "      <td>-6.679</td>\n",
       "      <td>0</td>\n",
       "      <td>0.0429</td>\n",
       "      <td>0.62100</td>\n",
       "      <td>0.000095</td>\n",
       "      <td>0.1300</td>\n",
       "      <td>0.1580</td>\n",
       "      <td>118.319</td>\n",
       "      <td>205400</td>\n",
       "      <td>56</td>\n",
       "    </tr>\n",
       "    <tr>\n",
       "      <th>taylor_swift</th>\n",
       "      <td>pop</td>\n",
       "      <td>latin</td>\n",
       "      <td>0.613</td>\n",
       "      <td>0.5810</td>\n",
       "      <td>0</td>\n",
       "      <td>-8.588</td>\n",
       "      <td>0</td>\n",
       "      <td>0.0424</td>\n",
       "      <td>0.53700</td>\n",
       "      <td>0.000345</td>\n",
       "      <td>0.2500</td>\n",
       "      <td>0.5510</td>\n",
       "      <td>130.033</td>\n",
       "      <td>239560</td>\n",
       "      <td>56</td>\n",
       "    </tr>\n",
       "    <tr>\n",
       "      <th>justin_bieber</th>\n",
       "      <td>pop</td>\n",
       "      <td>latin</td>\n",
       "      <td>0.811</td>\n",
       "      <td>0.5530</td>\n",
       "      <td>9</td>\n",
       "      <td>-6.644</td>\n",
       "      <td>1</td>\n",
       "      <td>0.0552</td>\n",
       "      <td>0.31700</td>\n",
       "      <td>0.000000</td>\n",
       "      <td>0.1050</td>\n",
       "      <td>0.8600</td>\n",
       "      <td>148.014</td>\n",
       "      <td>212869</td>\n",
       "      <td>56</td>\n",
       "    </tr>\n",
       "    <tr>\n",
       "      <th>john_legend</th>\n",
       "      <td>r&amp;b</td>\n",
       "      <td>pop</td>\n",
       "      <td>0.557</td>\n",
       "      <td>0.5850</td>\n",
       "      <td>8</td>\n",
       "      <td>-6.201</td>\n",
       "      <td>1</td>\n",
       "      <td>0.0431</td>\n",
       "      <td>0.03600</td>\n",
       "      <td>0.000000</td>\n",
       "      <td>0.1760</td>\n",
       "      <td>0.3050</td>\n",
       "      <td>63.392</td>\n",
       "      <td>196907</td>\n",
       "      <td>56</td>\n",
       "    </tr>\n",
       "    <tr>\n",
       "      <th>partynextdoor</th>\n",
       "      <td>r&amp;b</td>\n",
       "      <td>pop</td>\n",
       "      <td>0.430</td>\n",
       "      <td>0.7000</td>\n",
       "      <td>6</td>\n",
       "      <td>-5.350</td>\n",
       "      <td>1</td>\n",
       "      <td>0.2640</td>\n",
       "      <td>0.09020</td>\n",
       "      <td>0.000000</td>\n",
       "      <td>0.2160</td>\n",
       "      <td>0.7310</td>\n",
       "      <td>158.373</td>\n",
       "      <td>183219</td>\n",
       "      <td>56</td>\n",
       "    </tr>\n",
       "    <tr>\n",
       "      <th>dj_khaled</th>\n",
       "      <td>rap</td>\n",
       "      <td>rap</td>\n",
       "      <td>0.800</td>\n",
       "      <td>0.5600</td>\n",
       "      <td>5</td>\n",
       "      <td>-4.818</td>\n",
       "      <td>0</td>\n",
       "      <td>0.2610</td>\n",
       "      <td>0.05700</td>\n",
       "      <td>0.000000</td>\n",
       "      <td>0.1340</td>\n",
       "      <td>0.4500</td>\n",
       "      <td>163.071</td>\n",
       "      <td>200221</td>\n",
       "      <td>56</td>\n",
       "    </tr>\n",
       "    <tr>\n",
       "      <th>drake</th>\n",
       "      <td>rap</td>\n",
       "      <td>rap</td>\n",
       "      <td>0.761</td>\n",
       "      <td>0.5180</td>\n",
       "      <td>0</td>\n",
       "      <td>-8.871</td>\n",
       "      <td>1</td>\n",
       "      <td>0.1340</td>\n",
       "      <td>0.24400</td>\n",
       "      <td>0.000035</td>\n",
       "      <td>0.1070</td>\n",
       "      <td>0.5220</td>\n",
       "      <td>133.976</td>\n",
       "      <td>261493</td>\n",
       "      <td>56</td>\n",
       "    </tr>\n",
       "    <tr>\n",
       "      <th>bon_jovi</th>\n",
       "      <td>rock</td>\n",
       "      <td>rock</td>\n",
       "      <td>0.438</td>\n",
       "      <td>0.8260</td>\n",
       "      <td>10</td>\n",
       "      <td>-5.454</td>\n",
       "      <td>1</td>\n",
       "      <td>0.0750</td>\n",
       "      <td>0.00586</td>\n",
       "      <td>0.000009</td>\n",
       "      <td>0.3620</td>\n",
       "      <td>0.3780</td>\n",
       "      <td>144.149</td>\n",
       "      <td>221947</td>\n",
       "      <td>56</td>\n",
       "    </tr>\n",
       "    <tr>\n",
       "      <th>elton_john</th>\n",
       "      <td>rock</td>\n",
       "      <td>pop</td>\n",
       "      <td>0.428</td>\n",
       "      <td>0.5990</td>\n",
       "      <td>4</td>\n",
       "      <td>-2.135</td>\n",
       "      <td>1</td>\n",
       "      <td>0.0286</td>\n",
       "      <td>0.06650</td>\n",
       "      <td>0.000010</td>\n",
       "      <td>0.1370</td>\n",
       "      <td>0.1340</td>\n",
       "      <td>125.830</td>\n",
       "      <td>301730</td>\n",
       "      <td>56</td>\n",
       "    </tr>\n",
       "    <tr>\n",
       "      <th>chad_lawson</th>\n",
       "      <td>classical</td>\n",
       "      <td>classical</td>\n",
       "      <td>0.337</td>\n",
       "      <td>0.0111</td>\n",
       "      <td>0</td>\n",
       "      <td>-27.273</td>\n",
       "      <td>1</td>\n",
       "      <td>0.0456</td>\n",
       "      <td>0.99100</td>\n",
       "      <td>0.958000</td>\n",
       "      <td>0.0886</td>\n",
       "      <td>0.1480</td>\n",
       "      <td>75.690</td>\n",
       "      <td>159208</td>\n",
       "      <td>56</td>\n",
       "    </tr>\n",
       "    <tr>\n",
       "      <th>rascall_flats</th>\n",
       "      <td>country</td>\n",
       "      <td>rock</td>\n",
       "      <td>0.442</td>\n",
       "      <td>0.8000</td>\n",
       "      <td>2</td>\n",
       "      <td>-5.120</td>\n",
       "      <td>1</td>\n",
       "      <td>0.0368</td>\n",
       "      <td>0.01240</td>\n",
       "      <td>0.000000</td>\n",
       "      <td>0.0785</td>\n",
       "      <td>0.4980</td>\n",
       "      <td>152.004</td>\n",
       "      <td>211707</td>\n",
       "      <td>56</td>\n",
       "    </tr>\n",
       "    <tr>\n",
       "      <th>tenille_townes</th>\n",
       "      <td>country</td>\n",
       "      <td>country</td>\n",
       "      <td>0.600</td>\n",
       "      <td>0.7420</td>\n",
       "      <td>6</td>\n",
       "      <td>-4.135</td>\n",
       "      <td>1</td>\n",
       "      <td>0.0379</td>\n",
       "      <td>0.00716</td>\n",
       "      <td>0.000000</td>\n",
       "      <td>0.3630</td>\n",
       "      <td>0.7960</td>\n",
       "      <td>85.008</td>\n",
       "      <td>195187</td>\n",
       "      <td>56</td>\n",
       "    </tr>\n",
       "    <tr>\n",
       "      <th>david_guerra</th>\n",
       "      <td>electronic</td>\n",
       "      <td>pop</td>\n",
       "      <td>0.662</td>\n",
       "      <td>0.8680</td>\n",
       "      <td>5</td>\n",
       "      <td>-4.025</td>\n",
       "      <td>1</td>\n",
       "      <td>0.0341</td>\n",
       "      <td>0.00882</td>\n",
       "      <td>0.002440</td>\n",
       "      <td>0.5840</td>\n",
       "      <td>0.3530</td>\n",
       "      <td>92.998</td>\n",
       "      <td>200645</td>\n",
       "      <td>56</td>\n",
       "    </tr>\n",
       "    <tr>\n",
       "      <th>giant_rocks</th>\n",
       "      <td>indie</td>\n",
       "      <td>rock</td>\n",
       "      <td>0.530</td>\n",
       "      <td>0.8690</td>\n",
       "      <td>10</td>\n",
       "      <td>-3.542</td>\n",
       "      <td>0</td>\n",
       "      <td>0.0425</td>\n",
       "      <td>0.01990</td>\n",
       "      <td>0.000365</td>\n",
       "      <td>0.1300</td>\n",
       "      <td>0.5310</td>\n",
       "      <td>153.060</td>\n",
       "      <td>292733</td>\n",
       "      <td>56</td>\n",
       "    </tr>\n",
       "    <tr>\n",
       "      <th>instrumental_Jazz_music_guys</th>\n",
       "      <td>jazz</td>\n",
       "      <td>pop</td>\n",
       "      <td>0.599</td>\n",
       "      <td>0.1770</td>\n",
       "      <td>0</td>\n",
       "      <td>-14.621</td>\n",
       "      <td>1</td>\n",
       "      <td>0.0509</td>\n",
       "      <td>0.98000</td>\n",
       "      <td>0.577000</td>\n",
       "      <td>0.1380</td>\n",
       "      <td>0.5070</td>\n",
       "      <td>115.325</td>\n",
       "      <td>258341</td>\n",
       "      <td>56</td>\n",
       "    </tr>\n",
       "    <tr>\n",
       "      <th>christian_nodal</th>\n",
       "      <td>latin</td>\n",
       "      <td>latin</td>\n",
       "      <td>0.626</td>\n",
       "      <td>0.4700</td>\n",
       "      <td>0</td>\n",
       "      <td>-2.984</td>\n",
       "      <td>1</td>\n",
       "      <td>0.0316</td>\n",
       "      <td>0.52200</td>\n",
       "      <td>0.000000</td>\n",
       "      <td>0.2010</td>\n",
       "      <td>0.8250</td>\n",
       "      <td>140.046</td>\n",
       "      <td>176347</td>\n",
       "      <td>56</td>\n",
       "    </tr>\n",
       "    <tr>\n",
       "      <th>lon_orchestra</th>\n",
       "      <td>show_tunes</td>\n",
       "      <td>rock</td>\n",
       "      <td>0.699</td>\n",
       "      <td>0.4190</td>\n",
       "      <td>0</td>\n",
       "      <td>-15.133</td>\n",
       "      <td>1</td>\n",
       "      <td>0.1340</td>\n",
       "      <td>0.25500</td>\n",
       "      <td>0.023900</td>\n",
       "      <td>0.0471</td>\n",
       "      <td>0.8220</td>\n",
       "      <td>131.629</td>\n",
       "      <td>164307</td>\n",
       "      <td>56</td>\n",
       "    </tr>\n",
       "    <tr>\n",
       "      <th>broadway</th>\n",
       "      <td>show_tunes</td>\n",
       "      <td>show_tunes</td>\n",
       "      <td>0.674</td>\n",
       "      <td>0.6560</td>\n",
       "      <td>5</td>\n",
       "      <td>-7.171</td>\n",
       "      <td>1</td>\n",
       "      <td>0.1210</td>\n",
       "      <td>0.10700</td>\n",
       "      <td>0.000000</td>\n",
       "      <td>0.3690</td>\n",
       "      <td>0.9030</td>\n",
       "      <td>139.992</td>\n",
       "      <td>101708</td>\n",
       "      <td>56</td>\n",
       "    </tr>\n",
       "    <tr>\n",
       "      <th>kirk_franklin</th>\n",
       "      <td>worship</td>\n",
       "      <td>pop</td>\n",
       "      <td>0.745</td>\n",
       "      <td>0.6770</td>\n",
       "      <td>1</td>\n",
       "      <td>-5.355</td>\n",
       "      <td>1</td>\n",
       "      <td>0.2150</td>\n",
       "      <td>0.18100</td>\n",
       "      <td>0.000000</td>\n",
       "      <td>0.0895</td>\n",
       "      <td>0.7200</td>\n",
       "      <td>97.092</td>\n",
       "      <td>251258</td>\n",
       "      <td>56</td>\n",
       "    </tr>\n",
       "    <tr>\n",
       "      <th>shane_shane</th>\n",
       "      <td>worship</td>\n",
       "      <td>pop</td>\n",
       "      <td>0.426</td>\n",
       "      <td>0.3880</td>\n",
       "      <td>0</td>\n",
       "      <td>-12.084</td>\n",
       "      <td>1</td>\n",
       "      <td>0.0279</td>\n",
       "      <td>0.16600</td>\n",
       "      <td>0.000000</td>\n",
       "      <td>0.1020</td>\n",
       "      <td>0.2680</td>\n",
       "      <td>75.021</td>\n",
       "      <td>305055</td>\n",
       "      <td>56</td>\n",
       "    </tr>\n",
       "  </tbody>\n",
       "</table>\n",
       "</div>"
      ],
      "text/plain": [
       "                             Listed_Genre Predicted_Genre  danceability  \\\n",
       "billie_elilish                        pop           indie         0.444   \n",
       "alanis_morissette                     pop             pop         0.310   \n",
       "taylor_swift                          pop           latin         0.613   \n",
       "justin_bieber                         pop           latin         0.811   \n",
       "john_legend                           r&b             pop         0.557   \n",
       "partynextdoor                         r&b             pop         0.430   \n",
       "dj_khaled                             rap             rap         0.800   \n",
       "drake                                 rap             rap         0.761   \n",
       "bon_jovi                             rock            rock         0.438   \n",
       "elton_john                           rock             pop         0.428   \n",
       "chad_lawson                     classical       classical         0.337   \n",
       "rascall_flats                     country            rock         0.442   \n",
       "tenille_townes                    country         country         0.600   \n",
       "david_guerra                   electronic             pop         0.662   \n",
       "giant_rocks                         indie            rock         0.530   \n",
       "instrumental_Jazz_music_guys         jazz             pop         0.599   \n",
       "christian_nodal                     latin           latin         0.626   \n",
       "lon_orchestra                  show_tunes            rock         0.699   \n",
       "broadway                       show_tunes      show_tunes         0.674   \n",
       "kirk_franklin                     worship             pop         0.745   \n",
       "shane_shane                       worship             pop         0.426   \n",
       "\n",
       "                              energy  key  loudness  mode  speechiness  \\\n",
       "billie_elilish                0.3090    8   -10.956     1       0.0620   \n",
       "alanis_morissette             0.6270   10    -6.679     0       0.0429   \n",
       "taylor_swift                  0.5810    0    -8.588     0       0.0424   \n",
       "justin_bieber                 0.5530    9    -6.644     1       0.0552   \n",
       "john_legend                   0.5850    8    -6.201     1       0.0431   \n",
       "partynextdoor                 0.7000    6    -5.350     1       0.2640   \n",
       "dj_khaled                     0.5600    5    -4.818     0       0.2610   \n",
       "drake                         0.5180    0    -8.871     1       0.1340   \n",
       "bon_jovi                      0.8260   10    -5.454     1       0.0750   \n",
       "elton_john                    0.5990    4    -2.135     1       0.0286   \n",
       "chad_lawson                   0.0111    0   -27.273     1       0.0456   \n",
       "rascall_flats                 0.8000    2    -5.120     1       0.0368   \n",
       "tenille_townes                0.7420    6    -4.135     1       0.0379   \n",
       "david_guerra                  0.8680    5    -4.025     1       0.0341   \n",
       "giant_rocks                   0.8690   10    -3.542     0       0.0425   \n",
       "instrumental_Jazz_music_guys  0.1770    0   -14.621     1       0.0509   \n",
       "christian_nodal               0.4700    0    -2.984     1       0.0316   \n",
       "lon_orchestra                 0.4190    0   -15.133     1       0.1340   \n",
       "broadway                      0.6560    5    -7.171     1       0.1210   \n",
       "kirk_franklin                 0.6770    1    -5.355     1       0.2150   \n",
       "shane_shane                   0.3880    0   -12.084     1       0.0279   \n",
       "\n",
       "                              acousticness  instrumentalness  liveness  \\\n",
       "billie_elilish                     0.79500          0.132000    0.3520   \n",
       "alanis_morissette                  0.62100          0.000095    0.1300   \n",
       "taylor_swift                       0.53700          0.000345    0.2500   \n",
       "justin_bieber                      0.31700          0.000000    0.1050   \n",
       "john_legend                        0.03600          0.000000    0.1760   \n",
       "partynextdoor                      0.09020          0.000000    0.2160   \n",
       "dj_khaled                          0.05700          0.000000    0.1340   \n",
       "drake                              0.24400          0.000035    0.1070   \n",
       "bon_jovi                           0.00586          0.000009    0.3620   \n",
       "elton_john                         0.06650          0.000010    0.1370   \n",
       "chad_lawson                        0.99100          0.958000    0.0886   \n",
       "rascall_flats                      0.01240          0.000000    0.0785   \n",
       "tenille_townes                     0.00716          0.000000    0.3630   \n",
       "david_guerra                       0.00882          0.002440    0.5840   \n",
       "giant_rocks                        0.01990          0.000365    0.1300   \n",
       "instrumental_Jazz_music_guys       0.98000          0.577000    0.1380   \n",
       "christian_nodal                    0.52200          0.000000    0.2010   \n",
       "lon_orchestra                      0.25500          0.023900    0.0471   \n",
       "broadway                           0.10700          0.000000    0.3690   \n",
       "kirk_franklin                      0.18100          0.000000    0.0895   \n",
       "shane_shane                        0.16600          0.000000    0.1020   \n",
       "\n",
       "                              valence    tempo  duration_ms  popularity  \n",
       "billie_elilish                 0.0875  104.745       208155          56  \n",
       "alanis_morissette              0.1580  118.319       205400          56  \n",
       "taylor_swift                   0.5510  130.033       239560          56  \n",
       "justin_bieber                  0.8600  148.014       212869          56  \n",
       "john_legend                    0.3050   63.392       196907          56  \n",
       "partynextdoor                  0.7310  158.373       183219          56  \n",
       "dj_khaled                      0.4500  163.071       200221          56  \n",
       "drake                          0.5220  133.976       261493          56  \n",
       "bon_jovi                       0.3780  144.149       221947          56  \n",
       "elton_john                     0.1340  125.830       301730          56  \n",
       "chad_lawson                    0.1480   75.690       159208          56  \n",
       "rascall_flats                  0.4980  152.004       211707          56  \n",
       "tenille_townes                 0.7960   85.008       195187          56  \n",
       "david_guerra                   0.3530   92.998       200645          56  \n",
       "giant_rocks                    0.5310  153.060       292733          56  \n",
       "instrumental_Jazz_music_guys   0.5070  115.325       258341          56  \n",
       "christian_nodal                0.8250  140.046       176347          56  \n",
       "lon_orchestra                  0.8220  131.629       164307          56  \n",
       "broadway                       0.9030  139.992       101708          56  \n",
       "kirk_franklin                  0.7200   97.092       251258          56  \n",
       "shane_shane                    0.2680   75.021       305055          56  "
      ]
     },
     "execution_count": 48,
     "metadata": {},
     "output_type": "execute_result"
    }
   ],
   "source": [
    "feature_data = [billie_elilish,alanis_morissette, taylor_swift, justin_bieber, john_legend, partynextdoor, \n",
    "                dj_khaled, drake, bon_jovi, elton_john, chad_lawson, rascall_flats, tenille_townes, \n",
    "                david_guerra, giant_rocks, instrumental_Jazz_music_guys, christian_nodal, lon_orchestra, \n",
    "                broadway, kirk_franklin, shane_shane]\n",
    "summary_df = pd.DataFrame(feature_data, index=['billie_elilish','alanis_morissette', 'taylor_swift', \n",
    "                                               'justin_bieber', 'john_legend', 'partynextdoor', 'dj_khaled', \n",
    "                                               'drake', 'bon_jovi', 'elton_john', 'chad_lawson', 'rascall_flats', \n",
    "                                               'tenille_townes', 'david_guerra', 'giant_rocks', \n",
    "                                               'instrumental_Jazz_music_guys', 'christian_nodal', 'lon_orchestra',\n",
    "                                               'broadway', 'kirk_franklin', 'shane_shane'])\n",
    "\n",
    "listed_genre = ['pop','pop','pop','pop','r&b','r&b','rap','rap','rock','rock','classical','country',\n",
    "                'country','electronic','indie','jazz','latin','show_tunes','show_tunes','worship','worship']\n",
    "predicted_genre = ['indie','pop','latin','latin','pop','pop','rap','rap','rock','pop','classical','rock',\n",
    "                   'country','pop','rock','pop','latin','rock','show_tunes','pop','pop']\n",
    "\n",
    "#Insert Listed Genre\n",
    "summary_df['Listed_Genre']=listed_genre\n",
    "#Insert Genre Predicted by ML Model\n",
    "summary_df['Predicted_Genre'] = predicted_genre\n",
    "#Rearrange Columns\n",
    "summary_df = summary_df[['Listed_Genre', 'Predicted_Genre','danceability', 'energy', 'key', 'loudness', \n",
    "                         'mode','speechiness','acousticness', 'instrumentalness', 'liveness', 'valence', \n",
    "                         'tempo', 'duration_ms', 'popularity']]\n",
    "summary_df"
   ]
  },
  {
   "cell_type": "markdown",
   "metadata": {},
   "source": [
    "# Export Prediction Results"
   ]
  },
  {
   "cell_type": "code",
   "execution_count": 49,
   "metadata": {},
   "outputs": [],
   "source": [
    "summary_df.to_csv(r'DataSource/prediction_results.csv')"
   ]
  },
  {
   "cell_type": "code",
   "execution_count": null,
   "metadata": {},
   "outputs": [],
   "source": []
  }
 ],
 "metadata": {
  "kernelspec": {
   "display_name": "Python 3",
   "language": "python",
   "name": "python3"
  },
  "language_info": {
   "codemirror_mode": {
    "name": "ipython",
    "version": 3
   },
   "file_extension": ".py",
   "mimetype": "text/x-python",
   "name": "python",
   "nbconvert_exporter": "python",
   "pygments_lexer": "ipython3",
   "version": "3.7.6"
  }
 },
 "nbformat": 4,
 "nbformat_minor": 4
}
