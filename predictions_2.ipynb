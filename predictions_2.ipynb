{
 "cells": [
  {
   "cell_type": "markdown",
   "metadata": {},
   "source": [
    "# Import Dependencies"
   ]
  },
  {
   "cell_type": "code",
   "execution_count": 1,
   "metadata": {},
   "outputs": [],
   "source": [
    "import pickle\n",
    "import pandas as pd\n",
    "pd.set_option(\"display.max_rows\",500)\n",
    "import numpy as np\n",
    "import os"
   ]
  },
  {
   "cell_type": "markdown",
   "metadata": {},
   "source": [
    "# Read in Test Track\n",
    "\n",
    "- Artist Billie Eilish\n",
    "- Track Title: My Future\n",
    "- Release Date: July 30th 2020\n",
    "- Spotify Link: https://open.spotify.com/track/2ygvZOXrIeVL4xZmAWJT2C\n",
    "- Spotify API Audio Features: https://developer.spotify.com/console/get-audio-features-track/?id=2ygvZOXrIeVL4xZmAWJT2C"
   ]
  },
  {
   "cell_type": "code",
   "execution_count": 2,
   "metadata": {},
   "outputs": [],
   "source": [
    "my_future = {\n",
    "  \"danceability\": 0.444,\n",
    "  \"energy\": 0.309,\n",
    "  \"key\": 8,\n",
    "  \"loudness\": -10.956,\n",
    "  \"mode\": 1,\n",
    "  \"speechiness\": 0.062,\n",
    "  \"acousticness\": 0.795,\n",
    "  \"instrumentalness\": 0.132,\n",
    "  \"liveness\": 0.352,\n",
    "  \"valence\": 0.0875,\n",
    "  \"tempo\": 104.745,\n",
    "  \"type\": \"audio_features\",\n",
    "  \"id\": \"2ygvZOXrIeVL4xZmAWJT2C\",\n",
    "  \"uri\": \"spotify:track:2ygvZOXrIeVL4xZmAWJT2C\",\n",
    "  \"track_href\": \"https://api.spotify.com/v1/tracks/2ygvZOXrIeVL4xZmAWJT2C\",\n",
    "  \"analysis_url\": \"https://api.spotify.com/v1/audio-analysis/2ygvZOXrIeVL4xZmAWJT2C\",\n",
    "  \"duration_ms\": 208155,\n",
    "  \"time_signature\": 4\n",
    "}"
   ]
  },
  {
   "cell_type": "code",
   "execution_count": 3,
   "metadata": {},
   "outputs": [
    {
     "data": {
      "text/html": [
       "<div>\n",
       "<style scoped>\n",
       "    .dataframe tbody tr th:only-of-type {\n",
       "        vertical-align: middle;\n",
       "    }\n",
       "\n",
       "    .dataframe tbody tr th {\n",
       "        vertical-align: top;\n",
       "    }\n",
       "\n",
       "    .dataframe thead th {\n",
       "        text-align: right;\n",
       "    }\n",
       "</style>\n",
       "<table border=\"1\" class=\"dataframe\">\n",
       "  <thead>\n",
       "    <tr style=\"text-align: right;\">\n",
       "      <th></th>\n",
       "      <th>acousticness</th>\n",
       "      <th>danceability</th>\n",
       "      <th>duration_ms</th>\n",
       "      <th>energy</th>\n",
       "      <th>instrumentalness</th>\n",
       "      <th>liveness</th>\n",
       "      <th>loudness</th>\n",
       "      <th>speechiness</th>\n",
       "      <th>tempo</th>\n",
       "      <th>valence</th>\n",
       "      <th>popularity</th>\n",
       "      <th>key</th>\n",
       "      <th>mode</th>\n",
       "    </tr>\n",
       "  </thead>\n",
       "  <tbody>\n",
       "    <tr>\n",
       "      <th>0</th>\n",
       "      <td>0.795</td>\n",
       "      <td>0.444</td>\n",
       "      <td>208155</td>\n",
       "      <td>0.309</td>\n",
       "      <td>0.132</td>\n",
       "      <td>0.352</td>\n",
       "      <td>-10.956</td>\n",
       "      <td>0.062</td>\n",
       "      <td>104.745</td>\n",
       "      <td>0.0875</td>\n",
       "      <td>56</td>\n",
       "      <td>8</td>\n",
       "      <td>1</td>\n",
       "    </tr>\n",
       "  </tbody>\n",
       "</table>\n",
       "</div>"
      ],
      "text/plain": [
       "   acousticness  danceability  duration_ms  energy  instrumentalness  \\\n",
       "0         0.795         0.444       208155   0.309             0.132   \n",
       "\n",
       "   liveness  loudness  speechiness    tempo  valence  popularity  key  mode  \n",
       "0     0.352   -10.956        0.062  104.745   0.0875          56    8     1  "
      ]
     },
     "execution_count": 3,
     "metadata": {},
     "output_type": "execute_result"
    }
   ],
   "source": [
    "billie_eilish = pd.read_csv(\"make predictions.csv\")\n",
    "billie_eilish.head()"
   ]
  },
  {
   "cell_type": "markdown",
   "metadata": {},
   "source": [
    "# Predict Function"
   ]
  },
  {
   "cell_type": "code",
   "execution_count": 4,
   "metadata": {},
   "outputs": [],
   "source": [
    "def predictGenre(test_track):\n",
    "    #Load Machine Learning Model\n",
    "    loaded_scaler = pickle.load(open('Models/XGBoost_scaler.sav', 'rb'))\n",
    "    loaded_model = pickle.load(open('Models/XGBoost_model.sav', 'rb'))\n",
    "\n",
    "    #Make Predictions\n",
    "    newData_scaled = loaded_scaler.transform(test_track)\n",
    "    probs_test = loaded_model.predict_proba(newData_scaled)\n",
    "\n",
    "    #Map In Genres\n",
    "    genre = ['classical','country','electronic','indie','jazz','latin','pop','r&b','rap','rock','show_tunes','worship']\n",
    "    preds_test = pd.DataFrame(probs_test)\n",
    "    preds_test.columns=genre\n",
    "    # print(preds_test)\n",
    "\n",
    "    # Identify Genre with Highest Probability\n",
    "    probability = preds_test.max(axis=1)\n",
    "    probability.values[0]\n",
    "\n",
    "    predicted_genre = preds_test.idxmax(axis=1)\n",
    "    print(f'Test track has a {probability.values[0]} probability of being {predicted_genre.values[0]}') \n",
    "    \n",
    "    #Return Predicted Genre\n",
    "    return predicted_genre.values[0]"
   ]
  },
  {
   "cell_type": "code",
   "execution_count": 5,
   "metadata": {},
   "outputs": [
    {
     "name": "stdout",
     "output_type": "stream",
     "text": [
      "Test track has a 0.3910420835018158 probability of being indie\n"
     ]
    },
    {
     "data": {
      "text/plain": [
       "'indie'"
      ]
     },
     "execution_count": 5,
     "metadata": {},
     "output_type": "execute_result"
    }
   ],
   "source": [
    "predictGenre(billie_eilish)"
   ]
  },
  {
   "cell_type": "markdown",
   "metadata": {},
   "source": [
    "# Predict Function (Individual Audio Feature Parameters)"
   ]
  },
  {
   "cell_type": "code",
   "execution_count": 6,
   "metadata": {},
   "outputs": [],
   "source": [
    "def predictGenreIndividual(acoustic, dance, duration, energy, instrumental, live, loud, speech, temp, val, popularity, key, mode):\n",
    "    \n",
    "    #Create Dataframe with Test Track Information\n",
    "    test_dict = {\n",
    "    \"acousticness\": acoustic,\n",
    "    \"danceability\": dance,\n",
    "    \"duration_ms\": duration,\n",
    "    \"energy\": energy,\n",
    "    \"instrumentalness\": instrumental,\n",
    "    \"liveness\": live,\n",
    "    \"loudness\": loud,\n",
    "    \"speechiness\": speech,\n",
    "    \"tempo\": temp,\n",
    "    \"valence\": val,\n",
    "    \"popularity\": popularity,\n",
    "    \"key\": key,\n",
    "    \"mode\": mode\n",
    "    }\n",
    "    test_track = pd.DataFrame(test_dict, index=[0,])\n",
    "\n",
    "    #Load Machine Learning Model\n",
    "    loaded_scaler = pickle.load(open('Models/XGBoost_scaler.sav', 'rb'))\n",
    "    loaded_model = pickle.load(open('Models/XGBoost_model.sav', 'rb'))\n",
    "\n",
    "    #Make Predictions\n",
    "    newData_scaled = loaded_scaler.transform(test_track)\n",
    "    probs_test = loaded_model.predict_proba(newData_scaled)\n",
    "\n",
    "    #Map In Genres\n",
    "    genre = ['classical','country','electronic','indie','jazz','latin','pop','r&b','rap','rock','show_tunes','worship']\n",
    "    preds_test = pd.DataFrame(probs_test)\n",
    "    preds_test.columns=genre\n",
    "    # print(preds_test)\n",
    "\n",
    "    # Identify Genre with Highest Probability\n",
    "    probability = preds_test.max(axis=1)\n",
    "    probability.values[0]\n",
    "\n",
    "    predicted_genre = preds_test.idxmax(axis=1)\n",
    "    print(f'Test track has a {probability.values[0]} probability of being {predicted_genre.values[0]}') \n",
    "    \n",
    "    #Return Predicted Genre\n",
    "    return predicted_genre.values[0]"
   ]
  },
  {
   "cell_type": "code",
   "execution_count": 7,
   "metadata": {},
   "outputs": [
    {
     "name": "stdout",
     "output_type": "stream",
     "text": [
      "Test track has a 0.3910420835018158 probability of being indie\n"
     ]
    },
    {
     "data": {
      "text/plain": [
       "'indie'"
      ]
     },
     "execution_count": 7,
     "metadata": {},
     "output_type": "execute_result"
    }
   ],
   "source": [
    "predictGenreIndividual(0.795, 0.444, 208155,0.309, 0.132, 0.352, -10.956, 0.062, 104.745, 0.0875, 56, 8, 1)"
   ]
  }
 ],
 "metadata": {
  "kernelspec": {
   "display_name": "Python 3",
   "language": "python",
   "name": "python3"
  },
  "language_info": {
   "codemirror_mode": {
    "name": "ipython",
    "version": 3
   },
   "file_extension": ".py",
   "mimetype": "text/x-python",
   "name": "python",
   "nbconvert_exporter": "python",
   "pygments_lexer": "ipython3",
   "version": "3.7.6"
  }
 },
 "nbformat": 4,
 "nbformat_minor": 4
}
